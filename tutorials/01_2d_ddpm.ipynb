{
  "cells": [
    {
      "cell_type": "markdown",
      "metadata": {},
      "source": [
        "<a target=\"_blank\" href=\"https://colab.research.google.com/github/BardiaKh/Mediffusion/tree/main/tutorials/01_2d_ddpm.ipynb\">\n",
        "  <img src=\"https://colab.research.google.com/assets/colab-badge.svg\" alt=\"Open In Colab\"/>\n",
        "</a>"
      ]
    },
    {
      "cell_type": "markdown",
      "metadata": {
        "id": "IQnf_vn4ia1t"
      },
      "source": [
        "# Training a Diffusion Model"
      ]
    },
    {
      "cell_type": "markdown",
      "metadata": {
        "id": "B8NVCM8tia10"
      },
      "source": [
        "Diffusion models are a group of Generative AI models that excell at image generation. They have a remarkable capability for being conditioned on many criteria. In this notebook, we will train a simple diffusion model using the [Kermany et al.](https://www.kaggle.com/datasets/paultimothymooney/chest-xray-pneumonia?datasetId=17810) dataset and the [MONAI](https://monai.io) and [Mediffusion](https://github.com/BardiaKh/Mediffusion) packages to create synthetic chest radiographs with certain pathologies."
      ]
    },
    {
      "cell_type": "markdown",
      "metadata": {
        "id": "W33gLdb2ia11"
      },
      "source": [
        "Before starting, we need to install the `Mediffusion` (model training) and `wandb` (logging) packages:"
      ]
    },
    {
      "cell_type": "code",
      "execution_count": null,
      "metadata": {
        "colab": {
          "base_uri": "https://localhost:8080/",
          "height": 1000
        },
        "id": "VqTAGyUGia12",
        "outputId": "982e41fc-f166-47ab-dbd6-5307ee5a5106"
      },
      "outputs": [],
      "source": [
        "!pip install mediffusion wandb -U"
      ]
    },
    {
      "cell_type": "markdown",
      "metadata": {
        "id": "lLZdEVwOia13"
      },
      "source": [
        "Then we import our packages:"
      ]
    },
    {
      "cell_type": "code",
      "execution_count": null,
      "metadata": {
        "id": "ji8wjxBWia14"
      },
      "outputs": [],
      "source": [
        "import gdown\n",
        "import os\n",
        "import zipfile\n",
        "from glob import glob\n",
        "from tqdm.auto import tqdm\n",
        "import monai as mn\n",
        "import bkh_pytorch_utils as bpu\n",
        "import torch\n",
        "import matplotlib.pyplot as plt\n",
        "%matplotlib inline\n",
        "import yaml\n",
        "from mediffusion import DiffusionModule, Trainer"
      ]
    },
    {
      "cell_type": "markdown",
      "metadata": {
        "id": "HTfkKF8Iia16"
      },
      "source": [
        "In the next cell, we will download the dataset needed to train the model."
      ]
    },
    {
      "cell_type": "code",
      "execution_count": null,
      "metadata": {
        "colab": {
          "base_uri": "https://localhost:8080/"
        },
        "id": "0s4M55eKia17",
        "outputId": "aa45ec72-b81a-41d7-8e7e-5bb7a6462c87"
      },
      "outputs": [
        {
          "name": "stderr",
          "output_type": "stream",
          "text": [
            "Downloading...\n",
            "From: https://drive.google.com/uc?export=download&confirm=pbef&id=1r_lLkw8JQR2EUCPI6TLqsq5S_mV2SOQU\n",
            "To: /content/workshop_data.zip\n",
            "100%|██████████| 1.23G/1.23G [00:15<00:00, 81.4MB/s]\n",
            "Downloading...\n",
            "From: https://drive.google.com/uc?export=download&confirm=pbef&id=1L_gKWO87A4qCL1H95yfMA3TmEwXjhtr8\n",
            "To: /content/ddpm_weights.zip\n",
            "100%|██████████| 371M/371M [00:03<00:00, 111MB/s] \n"
          ]
        }
      ],
      "source": [
        "if not os.path.isdir(\"workshop_data\"):\n",
        "    gdown.download(\n",
        "        \"https://drive.google.com/uc?export=download&confirm=pbef&id=1r_lLkw8JQR2EUCPI6TLqsq5S_mV2SOQU\",\n",
        "        \"workshop_data.zip\",\n",
        "        quiet=False,\n",
        "    )\n",
        "    os.mkdir(\"workshop_data\")\n",
        "\n",
        "    with zipfile.ZipFile(\"workshop_data.zip\", 'r') as zip_ref:\n",
        "        zip_ref.extractall(\"workshop_data\")\n",
        "\n",
        "    os.remove(\"workshop_data.zip\")\n",
        "\n",
        "    gdown.download(\n",
        "        \"https://drive.google.com/uc?export=download&confirm=pbef&id=1L_gKWO87A4qCL1H95yfMA3TmEwXjhtr8\",\n",
        "        \"ddpm_weights.zip\",\n",
        "        quiet=False,\n",
        "    )\n",
        "    with zipfile.ZipFile(\"ddpm_weights.zip\", 'r') as zip_ref:\n",
        "        zip_ref.extractall(\"workshop_data\")\n",
        "\n",
        "    os.remove(\"ddpm_weights.zip\")"
      ]
    },
    {
      "cell_type": "markdown",
      "metadata": {
        "id": "h4tOHpENia18"
      },
      "source": [
        "First, let's define some constants:"
      ]
    },
    {
      "cell_type": "code",
      "execution_count": null,
      "metadata": {
        "id": "n-nWRYEoia19"
      },
      "outputs": [],
      "source": [
        "os.environ[\"CUDA_VISIBLE_DEVICES\"] = \"0\"                          # set your GPU devices\n",
        "os.environ['WANDB_API_KEY'] = \"YOUR_WANDB_API_KEY\"\n",
        "os.environ['PROTOCOL_BUFFERS_PYTHON_IMPLEMENTATION'] = 'python'     # handling error on some devices for wandb logging\n",
        "\n",
        "TOTAL_IMAGE_SEEN = 1e7\n",
        "BATCH_SIZE = 4\n",
        "NUM_DEVICES = 1\n",
        "TRAIN_ITERATIONS = int(TOTAL_IMAGE_SEEN / (BATCH_SIZE * NUM_DEVICES))"
      ]
    },
    {
      "cell_type": "markdown",
      "metadata": {
        "id": "kasalmiCia19"
      },
      "source": [
        "We use [wandb](https://wandb.ai) for logging purposes. You need to enter you `WANDB_API_KEY` so that you can see the training progress and log the results in your dashboard. You can find your api key [here](https://app.wandb.ai/authorize). Additionally, we set `TOTAL_IMAGE_SEEN` to `1e7`. This means that during the training process, we want the model to see 10 million images. However, please note that this is not unique images and the set is sampled with replacement from the original 5000 images, i.e., each image is roughly seen by the model 2000 times.\n",
        "\n",
        "As we want to use MONAI, we want to create a list of dictionaries in which each item, represents an image and its corresponding label."
      ]
    },
    {
      "cell_type": "code",
      "execution_count": null,
      "metadata": {
        "colab": {
          "base_uri": "https://localhost:8080/",
          "height": 49,
          "referenced_widgets": [
            "10dfeb487360437a98918a4ce3c10145",
            "8158e977ea1f4183b8c0f224e7c09069",
            "003b7c45e1ca4535b2b461c372fb8a2d",
            "ba8a983333df4f9b966e7e639c488794",
            "41637298b7ce42b5a9d2f2f2d2cfea29",
            "1158bdcd241f4834a52dab873044dd32",
            "125308b2b6e04a4fa55d9d29ce19f25e",
            "69b83b1dd90847939b1b87bf25e7bb56",
            "f44a58eda7c44eafa2955b5f8e26c486",
            "915890f925b949a7b56bdc63073be61b",
            "f4074ec8e4ca4301a42956ec7248e194"
          ]
        },
        "id": "7xenYdS8ia19",
        "outputId": "e063ca70-6942-48dc-8bc9-32d150a0ca27"
      },
      "outputs": [
        {
          "data": {
            "application/vnd.jupyter.widget-view+json": {
              "model_id": "10dfeb487360437a98918a4ce3c10145",
              "version_major": 2,
              "version_minor": 0
            },
            "text/plain": [
              "  0%|          | 0/5856 [00:00<?, ?it/s]"
            ]
          },
          "metadata": {},
          "output_type": "display_data"
        }
      ],
      "source": [
        "files = glob(f\"./workshop_data/chest_xray/*/*/*.jpeg\")\n",
        "data_dictionary = []\n",
        "for file in tqdm(files):\n",
        "    label = file.split(\"/\")[-2]\n",
        "    if label == \"NORMAL\":\n",
        "        cls_label = 0\n",
        "    else:\n",
        "        if \"virus\" in file:\n",
        "            cls_label = 1\n",
        "        else:\n",
        "            cls_label = 2\n",
        "    data_dictionary.append({\"img\": file, \"cls\": cls_label})"
      ]
    },
    {
      "cell_type": "code",
      "execution_count": null,
      "metadata": {
        "colab": {
          "base_uri": "https://localhost:8080/"
        },
        "id": "adk2am_Hia1-",
        "outputId": "90895a3f-5e52-4e55-ffbb-e7c501895059"
      },
      "outputs": [
        {
          "data": {
            "text/plain": [
              "[{'img': './workshop_data/chest_xray/train/NORMAL/NORMAL2-IM-0772-0001.jpeg',\n",
              "  'cls': 0},\n",
              " {'img': './workshop_data/chest_xray/train/NORMAL/IM-0656-0001-0002.jpeg',\n",
              "  'cls': 0}]"
            ]
          },
          "execution_count": 7,
          "metadata": {},
          "output_type": "execute_result"
        }
      ],
      "source": [
        "data_dictionary[:2]"
      ]
    },
    {
      "cell_type": "markdown",
      "metadata": {
        "id": "lHcWZExvia1-"
      },
      "source": [
        "We will use the last 100 images for validation and the rest will be for training the model."
      ]
    },
    {
      "cell_type": "code",
      "execution_count": null,
      "metadata": {
        "id": "Rwu4uSr1ia1_"
      },
      "outputs": [],
      "source": [
        "train_data = data_dictionary[:-100]\n",
        "val_data = data_dictionary[-100:]"
      ]
    },
    {
      "cell_type": "markdown",
      "metadata": {
        "id": "BDjxwsGtia1_"
      },
      "source": [
        "Next we use MONAI transforms and `PersistentDataset` to create our training and validation datasets."
      ]
    },
    {
      "cell_type": "code",
      "execution_count": null,
      "metadata": {
        "id": "JF1ZepPEia1_"
      },
      "outputs": [],
      "source": [
        "transforms = mn.transforms.Compose([\n",
        "    mn.transforms.LoadImageD(keys=\"img\"),\n",
        "    bpu.EnsureGrayscaleD(keys=\"img\"),\n",
        "    mn.transforms.ResizeD(keys='img', size_mode=\"longest\", mode=\"bilinear\", spatial_size=256, align_corners=False),\n",
        "    mn.transforms.ScaleIntensityRangePercentilesD(keys=\"img\", lower=0, upper=100, b_min=-1, b_max=1, clip=True),\n",
        "    mn.transforms.SpatialPadD(keys='img', spatial_size=(256, 256), mode=\"constant\", constant_values=-1),\n",
        "    mn.transforms.ToTensorD(keys=[\"cls\"], dtype=torch.float),\n",
        "    mn.transforms.AsDiscreteD(keys=[\"cls\"], to_onehot=[3]),\n",
        "    mn.transforms.SelectItemsD(keys=[\"img\",\"cls\"]),\n",
        "    mn.transforms.ToTensorD(keys=[\"img\",\"cls\"], dtype=torch.float, track_meta=False),\n",
        "])\n",
        "\n",
        "train_ds = mn.data.PersistentDataset(data=train_data, transform=transforms, cache_dir=\"./cache/train\")\n",
        "valid_ds = mn.data.PersistentDataset(data=val_data, transform=transforms, cache_dir=\"./cache/val\")"
      ]
    },
    {
      "cell_type": "markdown",
      "metadata": {
        "id": "roi9-ncZia1_"
      },
      "source": [
        "Lets's visualize a sample:"
      ]
    },
    {
      "cell_type": "code",
      "execution_count": null,
      "metadata": {
        "colab": {
          "base_uri": "https://localhost:8080/",
          "height": 473
        },
        "id": "dgs-Salhia1_",
        "outputId": "4004e0e4-149e-456c-c6ef-35f1ca7338aa"
      },
      "outputs": [
        {
          "data": {
            "image/png": "[encoded data removed]",
            "text/plain": [
              "<Figure size 640x480 with 1 Axes>"
            ]
          },
          "metadata": {},
          "output_type": "display_data"
        }
      ],
      "source": [
        "def visualize_sample(item):\n",
        "    label_dict = {0: \"Normal\", 1: \"Viral Pneumonia\", 2: \"Bacterial Pneumonia\"}\n",
        "    img = item[\"img\"].permute(2, 1, 0)\n",
        "    cls_label = label_dict[item[\"cls\"].argmax(dim=0).item()]\n",
        "    plt.imshow(img, cmap=\"gray\")\n",
        "    plt.title(f\"Label: {cls_label}\\nImage Range: {img.min().item():.2f} - {img.max().item():.2f}\")\n",
        "    plt.show()\n",
        "\n",
        "visualize_sample(train_ds[5])"
      ]
    },
    {
      "cell_type": "markdown",
      "metadata": {
        "id": "ls_7GiK5ia2A"
      },
      "source": [
        "Now, each item of the dataset has an `img` key (image tensore resized to 256x256 and scaled between [-1,1]) and a `cls` key (one-hot encoded class label).\n",
        "\n",
        "We train our diffusion model based on number of steps and not epoch based. So, we need a train sampler to increase the train dataset length to 4 million."
      ]
    },
    {
      "cell_type": "code",
      "execution_count": null,
      "metadata": {
        "id": "6hoBh8NSia2A"
      },
      "outputs": [],
      "source": [
        "train_sampler = torch.utils.data.RandomSampler(train_ds, replacement=True, num_samples=int(TOTAL_IMAGE_SEEN))"
      ]
    },
    {
      "cell_type": "markdown",
      "metadata": {
        "id": "khOcNf8uia2A"
      },
      "source": [
        "To start training our model, we need to have a config file. Let's see how that looks:"
      ]
    },
    {
      "cell_type": "code",
      "execution_count": null,
      "metadata": {
        "colab": {
          "base_uri": "https://localhost:8080/"
        },
        "id": "RQBA96Clia2A",
        "outputId": "a0a483bc-68be-40e1-96f7-834ede26f13f"
      },
      "outputs": [
        {
          "data": {
            "text/plain": [
              "{'diffusion': {'timesteps': 1000,\n",
              "  'schedule_name': 'cosine',\n",
              "  'enforce_zero_terminal_snr': True,\n",
              "  'schedule_params': {'beta_start': 0.0001,\n",
              "   'beta_end': 0.02,\n",
              "   'cosine_s': 0.008},\n",
              "  'timestep_respacing': None,\n",
              "  'mean_type': 'VELOCITY',\n",
              "  'var_type': 'LEARNED_RANGE',\n",
              "  'loss_type': 'MSE'},\n",
              " 'optimizer': {'lr': 1e-05, 'type': 'bkh_pytorch_utils.Lion'},\n",
              " 'validation': {'classifier_cond_scale': 4,\n",
              "  'protocol': 'DDIM100',\n",
              "  'log_original': False,\n",
              "  'log_concat': False,\n",
              "  'log_cls_indices': -1},\n",
              " 'model': {'input_size': 256,\n",
              "  'dims': 2,\n",
              "  'attention_resolutions': [32],\n",
              "  'channel_mult': [1, 2, 4, 4],\n",
              "  'dropout': 0.0,\n",
              "  'in_channels': 1,\n",
              "  'out_channels': 2,\n",
              "  'model_channels': 128,\n",
              "  'num_head_channels': -1,\n",
              "  'num_heads': 4,\n",
              "  'num_heads_upsample': -1,\n",
              "  'num_res_blocks': [2, 2, 2, 2],\n",
              "  'resblock_updown': False,\n",
              "  'use_checkpoint': False,\n",
              "  'use_new_attention_order': False,\n",
              "  'use_scale_shift_norm': True,\n",
              "  'scale_skip_connection': False,\n",
              "  'num_classes': 3,\n",
              "  'concat_channels': 0,\n",
              "  'guidance_drop_prob': 0.1,\n",
              "  'missing_class_value': None}}"
            ]
          },
          "execution_count": 13,
          "metadata": {},
          "output_type": "execute_result"
        }
      ],
      "source": [
        "with open(\"./workshop_data/config.yaml\", \"r\") as f:\n",
        "    config = yaml.load(f, Loader=yaml.FullLoader)\n",
        "\n",
        "config"
      ]
    },
    {
      "cell_type": "markdown",
      "metadata": {
        "id": "2ORKfW4eia2B"
      },
      "source": [
        "The most important thing beside model architecture, is the conditioning schema. Here, we have 3 classes (`num_classes = 3`; one-hot encoded label with three classes). You can play with model architecture and make it deeper or wider based on your usecase.\n",
        "\n",
        "Now we are ready to train our model:"
      ]
    },
    {
      "cell_type": "code",
      "execution_count": null,
      "metadata": {
        "id": "gklXlibwia2B"
      },
      "outputs": [],
      "source": [
        "model = DiffusionModule(\n",
        "    \"./workshop_data/config.yaml\",\n",
        "    train_ds=train_ds,\n",
        "    val_ds=valid_ds,\n",
        "    dl_workers=2,\n",
        "    train_sampler=train_sampler,\n",
        "    batch_size=BATCH_SIZE,               # train batch size\n",
        "    val_batch_size=BATCH_SIZE//2         # validation batch size (recommended size is half of batch_size)\n",
        ")"
      ]
    },
    {
      "cell_type": "code",
      "execution_count": null,
      "metadata": {
        "colab": {
          "base_uri": "https://localhost:8080/",
          "height": 208
        },
        "id": "JUD2SPA7ia2C",
        "outputId": "da69391d-00ff-477b-8be8-6da3d3a4cd48"
      },
      "outputs": [],
      "source": [
        "trainer = Trainer(\n",
        "    max_steps=10,\n",
        "    val_check_interval=5000,\n",
        "    root_directory=\"./outputs\", # where to save the weights and logs\n",
        "    precision=\"16-mixed\",       # mixed precision training\n",
        "    devices=-1,                 # use all the devices in CUDA_VISIBLE_DEVICES\n",
        "    nodes=1,\n",
        "    wandb_project=\"Mediffusion\",\n",
        "    logger_instance=\"demo_pipeline_kermany_256\",\n",
        ")"
      ]
    },
    {
      "cell_type": "markdown",
      "metadata": {
        "id": "cyNjNryDia2C"
      },
      "source": [
        "As you see, we set the total number of steps to 10 just for visualization purposes. For original training, you should set it to `TRAIN_ITERATIONS`."
      ]
    },
    {
      "cell_type": "code",
      "execution_count": null,
      "metadata": {
        "colab": {
          "base_uri": "https://localhost:8080/",
          "height": 1000,
          "referenced_widgets": [
            "5f72b8b9da9c4c3bb959e3acaccfeb12",
            "38aa8f8c05ca4d469aa90389c33aa11a",
            "106cf5497da74f979d1d57a2a73c7d61",
            "ee0cf42a50f844d4beae00bd8da5ee11",
            "effafa54ffe14955bb40f40a5ed1c835",
            "667e50eae41541bfa47edae3724f44da",
            "d63a3691737546d0820ff208a119c3bf",
            "eae9e1f2a2ed4ac5ac49cb49659e8a67",
            "2f04c0c034f549728709a29d794764ed",
            "225e781389f442e9a15762a4cd1745c9",
            "2966bcba9764425e86c3cba884de5216"
          ]
        },
        "id": "kJTJjCkJia2C",
        "outputId": "5081c50f-7deb-48f5-edd7-719b8a4db7c4"
      },
      "outputs": [
        {
          "name": "stderr",
          "output_type": "stream",
          "text": [
            "INFO:pytorch_lightning.accelerators.cuda:LOCAL_RANK: 0 - CUDA_VISIBLE_DEVICES: [0]\n",
            "INFO:pytorch_lightning.callbacks.model_summary:\n",
            "  | Name      | Type                  | Params\n",
            "----------------------------------------------------\n",
            "0 | diffusion | GaussianDiffusionBase | 0     \n",
            "1 | model     | UNetModel             | 100 M \n",
            "----------------------------------------------------\n",
            "100 M     Trainable params\n",
            "0         Non-trainable params\n",
            "100 M     Total params\n",
            "401.049   Total estimated model params size (MB)\n"
          ]
        },
        {
          "data": {
            "application/vnd.jupyter.widget-view+json": {
              "model_id": "5f72b8b9da9c4c3bb959e3acaccfeb12",
              "version_major": 2,
              "version_minor": 0
            },
            "text/plain": [
              "Training: 0it [00:00, ?it/s]"
            ]
          },
          "metadata": {},
          "output_type": "display_data"
        },
        {
          "name": "stderr",
          "output_type": "stream",
          "text": [
            "/usr/local/lib/python3.10/dist-packages/pytorch_lightning/utilities/data.py:77: UserWarning: Trying to infer the `batch_size` from an ambiguous collection. The batch size we found is 4. To avoid any miscalculations, use `self.log(..., batch_size=batch_size)`.\n",
            "  warning_cache.warn(\n",
            "INFO:pytorch_lightning.utilities.rank_zero:`Trainer.fit` stopped: `max_steps=10` reached.\n",
            "INFO:pytorch_lightning.profilers.profiler:FIT Profiler Report\n",
            "\n",
            "----------------------------------------------------------------------------------------------------------------------------------------------------------------------------------------------------------------------------------------------------------------------------------\n",
            "|  Action                                                                                                                                                                \t|  Mean duration (s)\t|  Num calls      \t|  Total time (s) \t|  Percentage %   \t|\n",
            "----------------------------------------------------------------------------------------------------------------------------------------------------------------------------------------------------------------------------------------------------------------------------------\n",
            "|  Total                                                                                                                                                                 \t|  -              \t|  537            \t|  27.373         \t|  100 %          \t|\n",
            "----------------------------------------------------------------------------------------------------------------------------------------------------------------------------------------------------------------------------------------------------------------------------------\n",
            "|  run_training_epoch                                                                                                                                                    \t|  20.115         \t|  1              \t|  20.115         \t|  73.484         \t|\n",
            "|  run_training_batch                                                                                                                                                    \t|  1.3311         \t|  10             \t|  13.311         \t|  48.627         \t|\n",
            "|  [LightningModule]DiffusionModule.optimizer_step                                                                                                                       \t|  1.3302         \t|  10             \t|  13.302         \t|  48.594         \t|\n",
            "|  [Callback]EMA.on_train_batch_end                                                                                                                                      \t|  0.65019        \t|  10             \t|  6.5019         \t|  23.753         \t|\n",
            "|  [Strategy]SingleDeviceStrategy.training_step                                                                                                                          \t|  0.59511        \t|  10             \t|  5.9511         \t|  21.741         \t|\n",
            "|  [Strategy]SingleDeviceStrategy.backward                                                                                                                               \t|  0.49311        \t|  10             \t|  4.9311         \t|  18.015         \t|\n",
            "|  [Callback]EMA.on_train_start                                                                                                                                          \t|  0.64916        \t|  1              \t|  0.64916        \t|  2.3716         \t|\n",
            "|  [LightningModule]DiffusionModule.configure_gradient_clipping                                                                                                          \t|  0.056831       \t|  10             \t|  0.56831        \t|  2.0762         \t|\n",
            "|  [_TrainingEpochLoop].train_dataloader_next                                                                                                                            \t|  0.019171       \t|  10             \t|  0.19171        \t|  0.70038        \t|\n",
            "|  [Callback]TQDMProgressBar.on_train_start                                                                                                                              \t|  0.021685       \t|  1              \t|  0.021685       \t|  0.079222       \t|\n",
            "|  [Strategy]SingleDeviceStrategy.batch_to_device                                                                                                                        \t|  0.0012503      \t|  10             \t|  0.012503       \t|  0.045679       \t|\n",
            "|  [Callback]ModelSummary.on_fit_start                                                                                                                                   \t|  0.011423       \t|  1              \t|  0.011423       \t|  0.041731       \t|\n",
            "|  [LightningModule]DiffusionModule.optimizer_zero_grad                                                                                                                  \t|  0.0011366      \t|  10             \t|  0.011366       \t|  0.041522       \t|\n",
            "|  [LightningModule]DiffusionModule.transfer_batch_to_device                                                                                                             \t|  0.0011276      \t|  10             \t|  0.011276       \t|  0.041193       \t|\n",
            "|  [Callback]LearningRateMonitor.on_train_batch_start                                                                                                                    \t|  0.00097633     \t|  10             \t|  0.0097633      \t|  0.035668       \t|\n",
            "|  [LightningModule]DiffusionModule.configure_optimizers                                                                                                                 \t|  0.003086       \t|  1              \t|  0.003086       \t|  0.011274       \t|\n",
            "|  [Callback]TQDMProgressBar.on_train_epoch_end                                                                                                                          \t|  0.0021929      \t|  1              \t|  0.0021929      \t|  0.0080113      \t|\n",
            "|  [Callback]TQDMProgressBar.on_train_epoch_start                                                                                                                        \t|  0.0015514      \t|  1              \t|  0.0015514      \t|  0.0056675      \t|\n",
            "|  [Callback]TQDMProgressBar.on_train_end                                                                                                                                \t|  0.0010129      \t|  1              \t|  0.0010129      \t|  0.0037005      \t|\n",
            "|  [Callback]ModelCheckpoint{'monitor': 'train_loss', 'mode': 'min', 'every_n_train_steps': 0, 'every_n_epochs': 1, 'train_time_interval': None}.on_train_batch_end      \t|  5.9602e-05     \t|  10             \t|  0.00059602     \t|  0.0021774      \t|\n",
            "|  [LightningModule]DiffusionModule.train_dataloader                                                                                                                     \t|  0.00039218     \t|  1              \t|  0.00039218     \t|  0.0014327      \t|\n",
            "|  [LightningModule]DiffusionModule.val_dataloader                                                                                                                       \t|  0.00038056     \t|  1              \t|  0.00038056     \t|  0.0013903      \t|\n",
            "|  [Callback]TQDMProgressBar.on_train_batch_end                                                                                                                          \t|  2.4286e-05     \t|  10             \t|  0.00024286     \t|  0.00088723     \t|\n",
            "|  [Callback]ModelCheckpoint{'monitor': 'train_loss', 'mode': 'min', 'every_n_train_steps': 0, 'every_n_epochs': 1, 'train_time_interval': None}.setup                   \t|  9.5147e-05     \t|  1              \t|  9.5147e-05     \t|  0.0003476      \t|\n",
            "|  [Callback]LearningRateMonitor.on_train_start                                                                                                                          \t|  9.3011e-05     \t|  1              \t|  9.3011e-05     \t|  0.00033979     \t|\n",
            "|  [Callback]LearningRateMonitor.on_after_backward                                                                                                                       \t|  7.5321e-06     \t|  10             \t|  7.5321e-05     \t|  0.00027517     \t|\n",
            "|  [Callback]ModelCheckpoint{'monitor': 'train_loss', 'mode': 'min', 'every_n_train_steps': 0, 'every_n_epochs': 1, 'train_time_interval': None}.on_train_epoch_end      \t|  6.8919e-05     \t|  1              \t|  6.8919e-05     \t|  0.00025178     \t|\n",
            "|  [Callback]LearningRateMonitor.on_before_optimizer_step                                                                                                                \t|  6.0619e-06     \t|  10             \t|  6.0619e-05     \t|  0.00022146     \t|\n",
            "|  [Callback]LearningRateMonitor.on_before_zero_grad                                                                                                                     \t|  5.4219e-06     \t|  10             \t|  5.4219e-05     \t|  0.00019808     \t|\n",
            "|  [LightningModule]DiffusionModule.on_before_batch_transfer                                                                                                             \t|  4.9884e-06     \t|  10             \t|  4.9884e-05     \t|  0.00018224     \t|\n",
            "|  [Callback]LearningRateMonitor.on_train_batch_end                                                                                                                      \t|  4.7253e-06     \t|  10             \t|  4.7253e-05     \t|  0.00017263     \t|\n",
            "|  [Callback]EMA.on_train_batch_start                                                                                                                                    \t|  3.9411e-06     \t|  10             \t|  3.9411e-05     \t|  0.00014398     \t|\n",
            "|  [Callback]LearningRateMonitor.on_before_backward                                                                                                                      \t|  3.9267e-06     \t|  10             \t|  3.9267e-05     \t|  0.00014345     \t|\n",
            "|  [Callback]ModelCheckpoint{'monitor': 'train_loss', 'mode': 'min', 'every_n_train_steps': 0, 'every_n_epochs': 1, 'train_time_interval': None}.on_before_optimizer_step\t|  3.7669e-06     \t|  10             \t|  3.7669e-05     \t|  0.00013762     \t|\n",
            "|  [LightningModule]DiffusionModule.on_after_batch_transfer                                                                                                              \t|  3.3488e-06     \t|  10             \t|  3.3488e-05     \t|  0.00012234     \t|\n",
            "|  [Callback]TQDMProgressBar.on_before_optimizer_step                                                                                                                    \t|  2.9402e-06     \t|  10             \t|  2.9402e-05     \t|  0.00010741     \t|\n",
            "|  [Callback]ModelSummary.on_train_batch_end                                                                                                                             \t|  2.8109e-06     \t|  10             \t|  2.8109e-05     \t|  0.00010269     \t|\n",
            "|  [Callback]TQDMProgressBar.on_train_batch_start                                                                                                                        \t|  2.4784e-06     \t|  10             \t|  2.4784e-05     \t|  9.0543e-05     \t|\n",
            "|  [LightningModule]DiffusionModule.on_train_batch_start                                                                                                                 \t|  2.4378e-06     \t|  10             \t|  2.4378e-05     \t|  8.9059e-05     \t|\n",
            "|  [Callback]EMA.on_before_zero_grad                                                                                                                                     \t|  2.3665e-06     \t|  10             \t|  2.3665e-05     \t|  8.6455e-05     \t|\n",
            "|  [Callback]ModelCheckpoint{'monitor': 'train_loss', 'mode': 'min', 'every_n_train_steps': 0, 'every_n_epochs': 1, 'train_time_interval': None}.on_train_batch_start    \t|  2.308e-06      \t|  10             \t|  2.308e-05      \t|  8.4318e-05     \t|\n",
            "|  [Strategy]SingleDeviceStrategy.on_train_batch_start                                                                                                                   \t|  2.3039e-06     \t|  10             \t|  2.3039e-05     \t|  8.4168e-05     \t|\n",
            "|  [Callback]ModelSummary.on_train_batch_start                                                                                                                           \t|  2.1898e-06     \t|  10             \t|  2.1898e-05     \t|  7.9999e-05     \t|\n",
            "|  [Callback]EMA.on_after_backward                                                                                                                                       \t|  2.1234e-06     \t|  10             \t|  2.1234e-05     \t|  7.7574e-05     \t|\n",
            "|  [LightningModule]DiffusionModule.on_after_backward                                                                                                                    \t|  2.0816e-06     \t|  10             \t|  2.0816e-05     \t|  7.6047e-05     \t|\n",
            "|  [Callback]EMA.on_before_optimizer_step                                                                                                                                \t|  2.0762e-06     \t|  10             \t|  2.0762e-05     \t|  7.5849e-05     \t|\n",
            "|  [Callback]ModelCheckpoint{'monitor': 'train_loss', 'mode': 'min', 'every_n_train_steps': 0, 'every_n_epochs': 1, 'train_time_interval': None}.on_after_backward       \t|  2.0557e-06     \t|  10             \t|  2.0557e-05     \t|  7.51e-05       \t|\n",
            "|  [Callback]TQDMProgressBar.on_before_zero_grad                                                                                                                         \t|  1.9984e-06     \t|  10             \t|  1.9984e-05     \t|  7.3007e-05     \t|\n",
            "|  [LightningModule]DiffusionModule.on_before_zero_grad                                                                                                                  \t|  1.9725e-06     \t|  10             \t|  1.9725e-05     \t|  7.2061e-05     \t|\n",
            "|  [Callback]EMA.on_before_backward                                                                                                                                      \t|  1.9009e-06     \t|  10             \t|  1.9009e-05     \t|  6.9445e-05     \t|\n",
            "|  [LightningModule]DiffusionModule.on_train_batch_end                                                                                                                   \t|  1.8569e-06     \t|  10             \t|  1.8569e-05     \t|  6.7838e-05     \t|\n",
            "|  [Callback]ModelCheckpoint{'monitor': 'train_loss', 'mode': 'min', 'every_n_train_steps': 0, 'every_n_epochs': 1, 'train_time_interval': None}.on_before_zero_grad     \t|  1.8009e-06     \t|  10             \t|  1.8009e-05     \t|  6.5792e-05     \t|\n",
            "|  [Callback]ModelCheckpoint{'monitor': 'train_loss', 'mode': 'min', 'every_n_train_steps': 0, 'every_n_epochs': 1, 'train_time_interval': None}.on_before_backward      \t|  1.7963e-06     \t|  10             \t|  1.7963e-05     \t|  6.5624e-05     \t|\n",
            "|  [Callback]TQDMProgressBar.on_after_backward                                                                                                                           \t|  1.7755e-06     \t|  10             \t|  1.7755e-05     \t|  6.4864e-05     \t|\n",
            "|  [LightningModule]DiffusionModule.on_before_optimizer_step                                                                                                             \t|  1.757e-06      \t|  10             \t|  1.757e-05      \t|  6.4188e-05     \t|\n",
            "|  [Callback]ModelSummary.on_before_optimizer_step                                                                                                                       \t|  1.7536e-06     \t|  10             \t|  1.7536e-05     \t|  6.4064e-05     \t|\n",
            "|  [Callback]ModelSummary.on_before_zero_grad                                                                                                                            \t|  1.6862e-06     \t|  10             \t|  1.6862e-05     \t|  6.1601e-05     \t|\n",
            "|  [Callback]ModelSummary.on_after_backward                                                                                                                              \t|  1.6261e-06     \t|  10             \t|  1.6261e-05     \t|  5.9406e-05     \t|\n",
            "|  [Callback]TQDMProgressBar.on_before_backward                                                                                                                          \t|  1.5858e-06     \t|  10             \t|  1.5858e-05     \t|  5.7934e-05     \t|\n",
            "|  [LightningModule]DiffusionModule.on_before_backward                                                                                                                   \t|  1.5209e-06     \t|  10             \t|  1.5209e-05     \t|  5.5563e-05     \t|\n",
            "|  [Callback]ModelSummary.on_before_backward                                                                                                                             \t|  1.498e-06      \t|  10             \t|  1.498e-05      \t|  5.4726e-05     \t|\n",
            "|  [Callback]ModelSummary.on_train_start                                                                                                                                 \t|  1.2358e-05     \t|  1              \t|  1.2358e-05     \t|  4.5147e-05     \t|\n",
            "|  [Callback]ModelSummary.on_train_epoch_end                                                                                                                             \t|  6.905e-06      \t|  1              \t|  6.905e-06      \t|  2.5226e-05     \t|\n",
            "|  [Callback]LearningRateMonitor.on_train_epoch_start                                                                                                                    \t|  6.484e-06      \t|  1              \t|  6.484e-06      \t|  2.3688e-05     \t|\n",
            "|  [Callback]LearningRateMonitor.on_fit_end                                                                                                                              \t|  6.406e-06      \t|  1              \t|  6.406e-06      \t|  2.3403e-05     \t|\n",
            "|  [Callback]ModelCheckpoint{'monitor': 'train_loss', 'mode': 'min', 'every_n_train_steps': 0, 'every_n_epochs': 1, 'train_time_interval': None}.on_fit_start            \t|  5.974e-06      \t|  1              \t|  5.974e-06      \t|  2.1825e-05     \t|\n",
            "|  [Callback]ModelSummary.on_train_epoch_start                                                                                                                           \t|  5.897e-06      \t|  1              \t|  5.897e-06      \t|  2.1543e-05     \t|\n",
            "|  [Callback]LearningRateMonitor.setup                                                                                                                                   \t|  5.751e-06      \t|  1              \t|  5.751e-06      \t|  2.101e-05      \t|\n",
            "|  [Callback]TQDMProgressBar.setup                                                                                                                                       \t|  5.246e-06      \t|  1              \t|  5.246e-06      \t|  1.9165e-05     \t|\n",
            "|  [LightningModule]DiffusionModule.on_train_start                                                                                                                       \t|  5.183e-06      \t|  1              \t|  5.183e-06      \t|  1.8935e-05     \t|\n",
            "|  [Callback]ModelSummary.on_train_end                                                                                                                                   \t|  5.124e-06      \t|  1              \t|  5.124e-06      \t|  1.8719e-05     \t|\n",
            "|  [Callback]LearningRateMonitor.on_train_end                                                                                                                            \t|  5.083e-06      \t|  1              \t|  5.083e-06      \t|  1.857e-05      \t|\n",
            "|  [LightningModule]DiffusionModule.configure_callbacks                                                                                                                  \t|  4.545e-06      \t|  1              \t|  4.545e-06      \t|  1.6604e-05     \t|\n",
            "|  [Callback]ModelCheckpoint{'monitor': 'train_loss', 'mode': 'min', 'every_n_train_steps': 0, 'every_n_epochs': 1, 'train_time_interval': None}.on_train_start          \t|  4.34e-06       \t|  1              \t|  4.34e-06       \t|  1.5855e-05     \t|\n",
            "|  [LightningModule]DiffusionModule.on_fit_end                                                                                                                           \t|  4.272e-06      \t|  1              \t|  4.272e-06      \t|  1.5607e-05     \t|\n",
            "|  [Callback]LearningRateMonitor.on_train_epoch_end                                                                                                                      \t|  3.494e-06      \t|  1              \t|  3.494e-06      \t|  1.2765e-05     \t|\n",
            "|  [Strategy]SingleDeviceStrategy.on_train_start                                                                                                                         \t|  3.461e-06      \t|  1              \t|  3.461e-06      \t|  1.2644e-05     \t|\n",
            "|  [Callback]LearningRateMonitor.on_fit_start                                                                                                                            \t|  3.383e-06      \t|  1              \t|  3.383e-06      \t|  1.2359e-05     \t|\n",
            "|  [Callback]LearningRateMonitor.teardown                                                                                                                                \t|  3.325e-06      \t|  1              \t|  3.325e-06      \t|  1.2147e-05     \t|\n",
            "|  [LightningModule]DiffusionModule.prepare_data                                                                                                                         \t|  2.945e-06      \t|  1              \t|  2.945e-06      \t|  1.0759e-05     \t|\n",
            "|  [Callback]EMA.on_train_epoch_start                                                                                                                                    \t|  2.795e-06      \t|  1              \t|  2.795e-06      \t|  1.0211e-05     \t|\n",
            "|  [LightningModule]DiffusionModule.on_fit_start                                                                                                                         \t|  2.569e-06      \t|  1              \t|  2.569e-06      \t|  9.3853e-06     \t|\n",
            "|  [LightningModule]DiffusionModule.on_train_epoch_end                                                                                                                   \t|  2.527e-06      \t|  1              \t|  2.527e-06      \t|  9.2318e-06     \t|\n",
            "|  [Callback]EMA.on_fit_end                                                                                                                                              \t|  2.425e-06      \t|  1              \t|  2.425e-06      \t|  8.8592e-06     \t|\n",
            "|  [Callback]ModelCheckpoint{'monitor': 'train_loss', 'mode': 'min', 'every_n_train_steps': 0, 'every_n_epochs': 1, 'train_time_interval': None}.on_train_epoch_start    \t|  2.409e-06      \t|  1              \t|  2.409e-06      \t|  8.8007e-06     \t|\n",
            "|  [Callback]ModelCheckpoint{'monitor': 'train_loss', 'mode': 'min', 'every_n_train_steps': 0, 'every_n_epochs': 1, 'train_time_interval': None}.on_train_end            \t|  2.359e-06      \t|  1              \t|  2.359e-06      \t|  8.6181e-06     \t|\n",
            "|  [LightningModule]DiffusionModule.on_train_epoch_start                                                                                                                 \t|  2.356e-06      \t|  1              \t|  2.356e-06      \t|  8.6071e-06     \t|\n",
            "|  [Callback]EMA.on_train_epoch_end                                                                                                                                      \t|  2.257e-06      \t|  1              \t|  2.257e-06      \t|  8.2454e-06     \t|\n",
            "|  [Callback]EMA.teardown                                                                                                                                                \t|  2.248e-06      \t|  1              \t|  2.248e-06      \t|  8.2126e-06     \t|\n",
            "|  [Callback]ModelCheckpoint{'monitor': 'train_loss', 'mode': 'min', 'every_n_train_steps': 0, 'every_n_epochs': 1, 'train_time_interval': None}.teardown                \t|  2.227e-06      \t|  1              \t|  2.227e-06      \t|  8.1358e-06     \t|\n",
            "|  [Callback]EMA.setup                                                                                                                                                   \t|  2.146e-06      \t|  1              \t|  2.146e-06      \t|  7.8399e-06     \t|\n",
            "|  [LightningModule]DiffusionModule.teardown                                                                                                                             \t|  2.057e-06      \t|  1              \t|  2.057e-06      \t|  7.5148e-06     \t|\n",
            "|  [Callback]TQDMProgressBar.teardown                                                                                                                                    \t|  2.023e-06      \t|  1              \t|  2.023e-06      \t|  7.3906e-06     \t|\n",
            "|  [Callback]ModelCheckpoint{'monitor': 'train_loss', 'mode': 'min', 'every_n_train_steps': 0, 'every_n_epochs': 1, 'train_time_interval': None}.on_fit_end              \t|  2.013e-06      \t|  1              \t|  2.013e-06      \t|  7.354e-06      \t|\n",
            "|  [Callback]ModelSummary.on_fit_end                                                                                                                                     \t|  1.998e-06      \t|  1              \t|  1.998e-06      \t|  7.2992e-06     \t|\n",
            "|  [Callback]ModelSummary.setup                                                                                                                                          \t|  1.974e-06      \t|  1              \t|  1.974e-06      \t|  7.2116e-06     \t|\n",
            "|  [Callback]TQDMProgressBar.on_fit_end                                                                                                                                  \t|  1.965e-06      \t|  1              \t|  1.965e-06      \t|  7.1787e-06     \t|\n",
            "|  [LightningModule]DiffusionModule.on_train_end                                                                                                                         \t|  1.959e-06      \t|  1              \t|  1.959e-06      \t|  7.1568e-06     \t|\n",
            "|  [Callback]EMA.on_train_end                                                                                                                                            \t|  1.939e-06      \t|  1              \t|  1.939e-06      \t|  7.0837e-06     \t|\n",
            "|  [Callback]ModelSummary.teardown                                                                                                                                       \t|  1.911e-06      \t|  1              \t|  1.911e-06      \t|  6.9814e-06     \t|\n",
            "|  [Callback]EMA.on_fit_start                                                                                                                                            \t|  1.788e-06      \t|  1              \t|  1.788e-06      \t|  6.5321e-06     \t|\n",
            "|  [LightningModule]DiffusionModule.configure_sharded_model                                                                                                              \t|  1.733e-06      \t|  1              \t|  1.733e-06      \t|  6.3311e-06     \t|\n",
            "|  [LightningModule]DiffusionModule.setup                                                                                                                                \t|  1.71e-06       \t|  1              \t|  1.71e-06       \t|  6.2471e-06     \t|\n",
            "|  [Strategy]SingleDeviceStrategy.on_train_end                                                                                                                           \t|  1.542e-06      \t|  1              \t|  1.542e-06      \t|  5.6333e-06     \t|\n",
            "|  [Callback]TQDMProgressBar.on_fit_start                                                                                                                                \t|  1.326e-06      \t|  1              \t|  1.326e-06      \t|  4.8442e-06     \t|\n",
            "----------------------------------------------------------------------------------------------------------------------------------------------------------------------------------------------------------------------------------------------------------------------------------\n",
            "\n"
          ]
        }
      ],
      "source": [
        "trainer.fit(model)"
      ]
    },
    {
      "cell_type": "markdown",
      "metadata": {
        "id": "Qco7aCziia2C"
      },
      "source": [
        "After training, the checkpoints will be available in `./outputs/pl/last.ckpt`. Let's use the already trained checkpoint, that was trained on the same dataset with trainer `max_steps = 1e7`:"
      ]
    },
    {
      "cell_type": "code",
      "execution_count": null,
      "metadata": {
        "id": "d1w-E2syia2D"
      },
      "outputs": [],
      "source": [
        "model = DiffusionModule(\"./workshop_data/config.yaml\")\n",
        "model.load_ckpt(\"./workshop_data/last.ckpt\", ema=True)\n",
        "model.eval().cuda().half();"
      ]
    },
    {
      "cell_type": "markdown",
      "metadata": {
        "id": "DmstZVO4ia2D"
      },
      "source": [
        "We have also set the model to `eval` mode and change the model weights to `float16` for faster inference. Now, we can easily create a sample image by generating a random noise (corresponding to image shape `[B:C:H:W]`), and setting the class, in the next case we are setting the class condition to `2` (one-hot encoded), corresponding to normal radiograph. Please note that to add randomness to the gnerated image, we have to provide an initial noise."
      ]
    },
    {
      "cell_type": "code",
      "execution_count": null,
      "metadata": {
        "colab": {
          "base_uri": "https://localhost:8080/"
        },
        "id": "pRenaluJia2E",
        "outputId": "8bfa2350-fbbf-424b-ce02-4b759cdc20fc"
      },
      "outputs": [
        {
          "name": "stderr",
          "output_type": "stream",
          "text": [
            "DDIM Sampling: 100%|██████████| 100/100 [00:18<00:00,  5.35it/s]\n"
          ]
        },
        {
          "name": "stdout",
          "output_type": "stream",
          "text": [
            "torch.Size([1, 256, 256])\n"
          ]
        }
      ],
      "source": [
        "noise = torch.randn(1, 1, 256, 256)\n",
        "cls_label = torch.tensor([2])       # 0: Normal, 1: Bacterial Pneumonia, 2: Viral Pneumonia\n",
        "\n",
        "model_kwargs = {\"cls\": torch.nn.functional.one_hot(cls_label,num_classes=3)}\n",
        "\n",
        "img = model.predict(\n",
        "    noise,\n",
        "    model_kwargs=model_kwargs,\n",
        "    classifier_cond_scale=4,\n",
        "    inference_protocol=\"DDIM100\"\n",
        ")\n",
        "\n",
        "print(img[0].shape)"
      ]
    },
    {
      "cell_type": "markdown",
      "metadata": {
        "id": "P7rqjhIDia2E"
      },
      "source": [
        "The output is a list of images, with shape `C:H:W`. Let's visualize the generated image:"
      ]
    },
    {
      "cell_type": "code",
      "execution_count": null,
      "metadata": {
        "colab": {
          "base_uri": "https://localhost:8080/",
          "height": 452
        },
        "id": "tBQ2necTia2E",
        "outputId": "b9ff602a-355e-4f06-8f9a-b2e0e41bb87f"
      },
      "outputs": [
        {
          "data": {
            "text/plain": [
              "<matplotlib.image.AxesImage at 0x78cad5b400a0>"
            ]
          },
          "execution_count": 33,
          "metadata": {},
          "output_type": "execute_result"
        },
        {
          "data": {
            "image/png": "[encoded data removed]",
            "text/plain": [
              "<Figure size 640x480 with 1 Axes>"
            ]
          },
          "metadata": {},
          "output_type": "display_data"
        }
      ],
      "source": [
        "plt.imshow(img[0].permute(2, 1, 0).cpu().numpy(), cmap=\"gray\")"
      ]
    },
    {
      "cell_type": "markdown",
      "metadata": {
        "id": "-WBKc12hia2F"
      },
      "source": [
        "Hope you have enjoyed this tutorial! Checkout [Mediffusion repository](https://github.com/BardiaKh/Mediffusion) to learn more about what can be done with diffusion models!"
      ]
    }
  ],
  "metadata": {
    "accelerator": "GPU",
    "colab": {
      "gpuType": "T4",
      "provenance": []
    },
    "kernelspec": {
      "display_name": "Python 3",
      "name": "python3"
    },
    "language_info": {
      "codemirror_mode": {
        "name": "ipython",
        "version": 3
      },
      "file_extension": ".py",
      "mimetype": "text/x-python",
      "name": "python",
      "nbconvert_exporter": "python",
      "pygments_lexer": "ipython3",
      "version": "3.8.13"
    },
    "widgets": {
      "application/vnd.jupyter.widget-state+json": {
        "003b7c45e1ca4535b2b461c372fb8a2d": {
          "model_module": "@jupyter-widgets/controls",
          "model_module_version": "1.5.0",
          "model_name": "FloatProgressModel",
          "state": {
            "_dom_classes": [],
            "_model_module": "@jupyter-widgets/controls",
            "_model_module_version": "1.5.0",
            "_model_name": "FloatProgressModel",
            "_view_count": null,
            "_view_module": "@jupyter-widgets/controls",
            "_view_module_version": "1.5.0",
            "_view_name": "ProgressView",
            "bar_style": "success",
            "description": "",
            "description_tooltip": null,
            "layout": "IPY_MODEL_69b83b1dd90847939b1b87bf25e7bb56",
            "max": 5856,
            "min": 0,
            "orientation": "horizontal",
            "style": "IPY_MODEL_f44a58eda7c44eafa2955b5f8e26c486",
            "value": 5856
          }
        },
        "106cf5497da74f979d1d57a2a73c7d61": {
          "model_module": "@jupyter-widgets/controls",
          "model_module_version": "1.5.0",
          "model_name": "FloatProgressModel",
          "state": {
            "_dom_classes": [],
            "_model_module": "@jupyter-widgets/controls",
            "_model_module_version": "1.5.0",
            "_model_name": "FloatProgressModel",
            "_view_count": null,
            "_view_module": "@jupyter-widgets/controls",
            "_view_module_version": "1.5.0",
            "_view_name": "ProgressView",
            "bar_style": "danger",
            "description": "",
            "description_tooltip": null,
            "layout": "IPY_MODEL_eae9e1f2a2ed4ac5ac49cb49659e8a67",
            "max": 2500000,
            "min": 0,
            "orientation": "horizontal",
            "style": "IPY_MODEL_2f04c0c034f549728709a29d794764ed",
            "value": 0
          }
        },
        "10dfeb487360437a98918a4ce3c10145": {
          "model_module": "@jupyter-widgets/controls",
          "model_module_version": "1.5.0",
          "model_name": "HBoxModel",
          "state": {
            "_dom_classes": [],
            "_model_module": "@jupyter-widgets/controls",
            "_model_module_version": "1.5.0",
            "_model_name": "HBoxModel",
            "_view_count": null,
            "_view_module": "@jupyter-widgets/controls",
            "_view_module_version": "1.5.0",
            "_view_name": "HBoxView",
            "box_style": "",
            "children": [
              "IPY_MODEL_8158e977ea1f4183b8c0f224e7c09069",
              "IPY_MODEL_003b7c45e1ca4535b2b461c372fb8a2d",
              "IPY_MODEL_ba8a983333df4f9b966e7e639c488794"
            ],
            "layout": "IPY_MODEL_41637298b7ce42b5a9d2f2f2d2cfea29"
          }
        },
        "1158bdcd241f4834a52dab873044dd32": {
          "model_module": "@jupyter-widgets/base",
          "model_module_version": "1.2.0",
          "model_name": "LayoutModel",
          "state": {
            "_model_module": "@jupyter-widgets/base",
            "_model_module_version": "1.2.0",
            "_model_name": "LayoutModel",
            "_view_count": null,
            "_view_module": "@jupyter-widgets/base",
            "_view_module_version": "1.2.0",
            "_view_name": "LayoutView",
            "align_content": null,
            "align_items": null,
            "align_self": null,
            "border": null,
            "bottom": null,
            "display": null,
            "flex": null,
            "flex_flow": null,
            "grid_area": null,
            "grid_auto_columns": null,
            "grid_auto_flow": null,
            "grid_auto_rows": null,
            "grid_column": null,
            "grid_gap": null,
            "grid_row": null,
            "grid_template_areas": null,
            "grid_template_columns": null,
            "grid_template_rows": null,
            "height": null,
            "justify_content": null,
            "justify_items": null,
            "left": null,
            "margin": null,
            "max_height": null,
            "max_width": null,
            "min_height": null,
            "min_width": null,
            "object_fit": null,
            "object_position": null,
            "order": null,
            "overflow": null,
            "overflow_x": null,
            "overflow_y": null,
            "padding": null,
            "right": null,
            "top": null,
            "visibility": null,
            "width": null
          }
        },
        "125308b2b6e04a4fa55d9d29ce19f25e": {
          "model_module": "@jupyter-widgets/controls",
          "model_module_version": "1.5.0",
          "model_name": "DescriptionStyleModel",
          "state": {
            "_model_module": "@jupyter-widgets/controls",
            "_model_module_version": "1.5.0",
            "_model_name": "DescriptionStyleModel",
            "_view_count": null,
            "_view_module": "@jupyter-widgets/base",
            "_view_module_version": "1.2.0",
            "_view_name": "StyleView",
            "description_width": ""
          }
        },
        "225e781389f442e9a15762a4cd1745c9": {
          "model_module": "@jupyter-widgets/base",
          "model_module_version": "1.2.0",
          "model_name": "LayoutModel",
          "state": {
            "_model_module": "@jupyter-widgets/base",
            "_model_module_version": "1.2.0",
            "_model_name": "LayoutModel",
            "_view_count": null,
            "_view_module": "@jupyter-widgets/base",
            "_view_module_version": "1.2.0",
            "_view_name": "LayoutView",
            "align_content": null,
            "align_items": null,
            "align_self": null,
            "border": null,
            "bottom": null,
            "display": null,
            "flex": null,
            "flex_flow": null,
            "grid_area": null,
            "grid_auto_columns": null,
            "grid_auto_flow": null,
            "grid_auto_rows": null,
            "grid_column": null,
            "grid_gap": null,
            "grid_row": null,
            "grid_template_areas": null,
            "grid_template_columns": null,
            "grid_template_rows": null,
            "height": null,
            "justify_content": null,
            "justify_items": null,
            "left": null,
            "margin": null,
            "max_height": null,
            "max_width": null,
            "min_height": null,
            "min_width": null,
            "object_fit": null,
            "object_position": null,
            "order": null,
            "overflow": null,
            "overflow_x": null,
            "overflow_y": null,
            "padding": null,
            "right": null,
            "top": null,
            "visibility": null,
            "width": null
          }
        },
        "2966bcba9764425e86c3cba884de5216": {
          "model_module": "@jupyter-widgets/controls",
          "model_module_version": "1.5.0",
          "model_name": "DescriptionStyleModel",
          "state": {
            "_model_module": "@jupyter-widgets/controls",
            "_model_module_version": "1.5.0",
            "_model_name": "DescriptionStyleModel",
            "_view_count": null,
            "_view_module": "@jupyter-widgets/base",
            "_view_module_version": "1.2.0",
            "_view_name": "StyleView",
            "description_width": ""
          }
        },
        "2f04c0c034f549728709a29d794764ed": {
          "model_module": "@jupyter-widgets/controls",
          "model_module_version": "1.5.0",
          "model_name": "ProgressStyleModel",
          "state": {
            "_model_module": "@jupyter-widgets/controls",
            "_model_module_version": "1.5.0",
            "_model_name": "ProgressStyleModel",
            "_view_count": null,
            "_view_module": "@jupyter-widgets/base",
            "_view_module_version": "1.2.0",
            "_view_name": "StyleView",
            "bar_color": null,
            "description_width": ""
          }
        },
        "38aa8f8c05ca4d469aa90389c33aa11a": {
          "model_module": "@jupyter-widgets/controls",
          "model_module_version": "1.5.0",
          "model_name": "HTMLModel",
          "state": {
            "_dom_classes": [],
            "_model_module": "@jupyter-widgets/controls",
            "_model_module_version": "1.5.0",
            "_model_name": "HTMLModel",
            "_view_count": null,
            "_view_module": "@jupyter-widgets/controls",
            "_view_module_version": "1.5.0",
            "_view_name": "HTMLView",
            "description": "",
            "description_tooltip": null,
            "layout": "IPY_MODEL_667e50eae41541bfa47edae3724f44da",
            "placeholder": "​",
            "style": "IPY_MODEL_d63a3691737546d0820ff208a119c3bf",
            "value": "Epoch 0:   0%"
          }
        },
        "41637298b7ce42b5a9d2f2f2d2cfea29": {
          "model_module": "@jupyter-widgets/base",
          "model_module_version": "1.2.0",
          "model_name": "LayoutModel",
          "state": {
            "_model_module": "@jupyter-widgets/base",
            "_model_module_version": "1.2.0",
            "_model_name": "LayoutModel",
            "_view_count": null,
            "_view_module": "@jupyter-widgets/base",
            "_view_module_version": "1.2.0",
            "_view_name": "LayoutView",
            "align_content": null,
            "align_items": null,
            "align_self": null,
            "border": null,
            "bottom": null,
            "display": null,
            "flex": null,
            "flex_flow": null,
            "grid_area": null,
            "grid_auto_columns": null,
            "grid_auto_flow": null,
            "grid_auto_rows": null,
            "grid_column": null,
            "grid_gap": null,
            "grid_row": null,
            "grid_template_areas": null,
            "grid_template_columns": null,
            "grid_template_rows": null,
            "height": null,
            "justify_content": null,
            "justify_items": null,
            "left": null,
            "margin": null,
            "max_height": null,
            "max_width": null,
            "min_height": null,
            "min_width": null,
            "object_fit": null,
            "object_position": null,
            "order": null,
            "overflow": null,
            "overflow_x": null,
            "overflow_y": null,
            "padding": null,
            "right": null,
            "top": null,
            "visibility": null,
            "width": null
          }
        },
        "5f72b8b9da9c4c3bb959e3acaccfeb12": {
          "model_module": "@jupyter-widgets/controls",
          "model_module_version": "1.5.0",
          "model_name": "HBoxModel",
          "state": {
            "_dom_classes": [],
            "_model_module": "@jupyter-widgets/controls",
            "_model_module_version": "1.5.0",
            "_model_name": "HBoxModel",
            "_view_count": null,
            "_view_module": "@jupyter-widgets/controls",
            "_view_module_version": "1.5.0",
            "_view_name": "HBoxView",
            "box_style": "",
            "children": [
              "IPY_MODEL_38aa8f8c05ca4d469aa90389c33aa11a",
              "IPY_MODEL_106cf5497da74f979d1d57a2a73c7d61",
              "IPY_MODEL_ee0cf42a50f844d4beae00bd8da5ee11"
            ],
            "layout": "IPY_MODEL_effafa54ffe14955bb40f40a5ed1c835"
          }
        },
        "667e50eae41541bfa47edae3724f44da": {
          "model_module": "@jupyter-widgets/base",
          "model_module_version": "1.2.0",
          "model_name": "LayoutModel",
          "state": {
            "_model_module": "@jupyter-widgets/base",
            "_model_module_version": "1.2.0",
            "_model_name": "LayoutModel",
            "_view_count": null,
            "_view_module": "@jupyter-widgets/base",
            "_view_module_version": "1.2.0",
            "_view_name": "LayoutView",
            "align_content": null,
            "align_items": null,
            "align_self": null,
            "border": null,
            "bottom": null,
            "display": null,
            "flex": null,
            "flex_flow": null,
            "grid_area": null,
            "grid_auto_columns": null,
            "grid_auto_flow": null,
            "grid_auto_rows": null,
            "grid_column": null,
            "grid_gap": null,
            "grid_row": null,
            "grid_template_areas": null,
            "grid_template_columns": null,
            "grid_template_rows": null,
            "height": null,
            "justify_content": null,
            "justify_items": null,
            "left": null,
            "margin": null,
            "max_height": null,
            "max_width": null,
            "min_height": null,
            "min_width": null,
            "object_fit": null,
            "object_position": null,
            "order": null,
            "overflow": null,
            "overflow_x": null,
            "overflow_y": null,
            "padding": null,
            "right": null,
            "top": null,
            "visibility": null,
            "width": null
          }
        },
        "69b83b1dd90847939b1b87bf25e7bb56": {
          "model_module": "@jupyter-widgets/base",
          "model_module_version": "1.2.0",
          "model_name": "LayoutModel",
          "state": {
            "_model_module": "@jupyter-widgets/base",
            "_model_module_version": "1.2.0",
            "_model_name": "LayoutModel",
            "_view_count": null,
            "_view_module": "@jupyter-widgets/base",
            "_view_module_version": "1.2.0",
            "_view_name": "LayoutView",
            "align_content": null,
            "align_items": null,
            "align_self": null,
            "border": null,
            "bottom": null,
            "display": null,
            "flex": null,
            "flex_flow": null,
            "grid_area": null,
            "grid_auto_columns": null,
            "grid_auto_flow": null,
            "grid_auto_rows": null,
            "grid_column": null,
            "grid_gap": null,
            "grid_row": null,
            "grid_template_areas": null,
            "grid_template_columns": null,
            "grid_template_rows": null,
            "height": null,
            "justify_content": null,
            "justify_items": null,
            "left": null,
            "margin": null,
            "max_height": null,
            "max_width": null,
            "min_height": null,
            "min_width": null,
            "object_fit": null,
            "object_position": null,
            "order": null,
            "overflow": null,
            "overflow_x": null,
            "overflow_y": null,
            "padding": null,
            "right": null,
            "top": null,
            "visibility": null,
            "width": null
          }
        },
        "8158e977ea1f4183b8c0f224e7c09069": {
          "model_module": "@jupyter-widgets/controls",
          "model_module_version": "1.5.0",
          "model_name": "HTMLModel",
          "state": {
            "_dom_classes": [],
            "_model_module": "@jupyter-widgets/controls",
            "_model_module_version": "1.5.0",
            "_model_name": "HTMLModel",
            "_view_count": null,
            "_view_module": "@jupyter-widgets/controls",
            "_view_module_version": "1.5.0",
            "_view_name": "HTMLView",
            "description": "",
            "description_tooltip": null,
            "layout": "IPY_MODEL_1158bdcd241f4834a52dab873044dd32",
            "placeholder": "​",
            "style": "IPY_MODEL_125308b2b6e04a4fa55d9d29ce19f25e",
            "value": "100%"
          }
        },
        "915890f925b949a7b56bdc63073be61b": {
          "model_module": "@jupyter-widgets/base",
          "model_module_version": "1.2.0",
          "model_name": "LayoutModel",
          "state": {
            "_model_module": "@jupyter-widgets/base",
            "_model_module_version": "1.2.0",
            "_model_name": "LayoutModel",
            "_view_count": null,
            "_view_module": "@jupyter-widgets/base",
            "_view_module_version": "1.2.0",
            "_view_name": "LayoutView",
            "align_content": null,
            "align_items": null,
            "align_self": null,
            "border": null,
            "bottom": null,
            "display": null,
            "flex": null,
            "flex_flow": null,
            "grid_area": null,
            "grid_auto_columns": null,
            "grid_auto_flow": null,
            "grid_auto_rows": null,
            "grid_column": null,
            "grid_gap": null,
            "grid_row": null,
            "grid_template_areas": null,
            "grid_template_columns": null,
            "grid_template_rows": null,
            "height": null,
            "justify_content": null,
            "justify_items": null,
            "left": null,
            "margin": null,
            "max_height": null,
            "max_width": null,
            "min_height": null,
            "min_width": null,
            "object_fit": null,
            "object_position": null,
            "order": null,
            "overflow": null,
            "overflow_x": null,
            "overflow_y": null,
            "padding": null,
            "right": null,
            "top": null,
            "visibility": null,
            "width": null
          }
        },
        "ba8a983333df4f9b966e7e639c488794": {
          "model_module": "@jupyter-widgets/controls",
          "model_module_version": "1.5.0",
          "model_name": "HTMLModel",
          "state": {
            "_dom_classes": [],
            "_model_module": "@jupyter-widgets/controls",
            "_model_module_version": "1.5.0",
            "_model_name": "HTMLModel",
            "_view_count": null,
            "_view_module": "@jupyter-widgets/controls",
            "_view_module_version": "1.5.0",
            "_view_name": "HTMLView",
            "description": "",
            "description_tooltip": null,
            "layout": "IPY_MODEL_915890f925b949a7b56bdc63073be61b",
            "placeholder": "​",
            "style": "IPY_MODEL_f4074ec8e4ca4301a42956ec7248e194",
            "value": " 5856/5856 [00:00&lt;00:00, 155922.48it/s]"
          }
        },
        "d63a3691737546d0820ff208a119c3bf": {
          "model_module": "@jupyter-widgets/controls",
          "model_module_version": "1.5.0",
          "model_name": "DescriptionStyleModel",
          "state": {
            "_model_module": "@jupyter-widgets/controls",
            "_model_module_version": "1.5.0",
            "_model_name": "DescriptionStyleModel",
            "_view_count": null,
            "_view_module": "@jupyter-widgets/base",
            "_view_module_version": "1.2.0",
            "_view_name": "StyleView",
            "description_width": ""
          }
        },
        "eae9e1f2a2ed4ac5ac49cb49659e8a67": {
          "model_module": "@jupyter-widgets/base",
          "model_module_version": "1.2.0",
          "model_name": "LayoutModel",
          "state": {
            "_model_module": "@jupyter-widgets/base",
            "_model_module_version": "1.2.0",
            "_model_name": "LayoutModel",
            "_view_count": null,
            "_view_module": "@jupyter-widgets/base",
            "_view_module_version": "1.2.0",
            "_view_name": "LayoutView",
            "align_content": null,
            "align_items": null,
            "align_self": null,
            "border": null,
            "bottom": null,
            "display": null,
            "flex": "2",
            "flex_flow": null,
            "grid_area": null,
            "grid_auto_columns": null,
            "grid_auto_flow": null,
            "grid_auto_rows": null,
            "grid_column": null,
            "grid_gap": null,
            "grid_row": null,
            "grid_template_areas": null,
            "grid_template_columns": null,
            "grid_template_rows": null,
            "height": null,
            "justify_content": null,
            "justify_items": null,
            "left": null,
            "margin": null,
            "max_height": null,
            "max_width": null,
            "min_height": null,
            "min_width": null,
            "object_fit": null,
            "object_position": null,
            "order": null,
            "overflow": null,
            "overflow_x": null,
            "overflow_y": null,
            "padding": null,
            "right": null,
            "top": null,
            "visibility": null,
            "width": null
          }
        },
        "ee0cf42a50f844d4beae00bd8da5ee11": {
          "model_module": "@jupyter-widgets/controls",
          "model_module_version": "1.5.0",
          "model_name": "HTMLModel",
          "state": {
            "_dom_classes": [],
            "_model_module": "@jupyter-widgets/controls",
            "_model_module_version": "1.5.0",
            "_model_name": "HTMLModel",
            "_view_count": null,
            "_view_module": "@jupyter-widgets/controls",
            "_view_module_version": "1.5.0",
            "_view_name": "HTMLView",
            "description": "",
            "description_tooltip": null,
            "layout": "IPY_MODEL_225e781389f442e9a15762a4cd1745c9",
            "placeholder": "​",
            "style": "IPY_MODEL_2966bcba9764425e86c3cba884de5216",
            "value": " 0/2500000 [00:20&lt;?, ?it/s, v_num=jar5]"
          }
        },
        "effafa54ffe14955bb40f40a5ed1c835": {
          "model_module": "@jupyter-widgets/base",
          "model_module_version": "1.2.0",
          "model_name": "LayoutModel",
          "state": {
            "_model_module": "@jupyter-widgets/base",
            "_model_module_version": "1.2.0",
            "_model_name": "LayoutModel",
            "_view_count": null,
            "_view_module": "@jupyter-widgets/base",
            "_view_module_version": "1.2.0",
            "_view_name": "LayoutView",
            "align_content": null,
            "align_items": null,
            "align_self": null,
            "border": null,
            "bottom": null,
            "display": "inline-flex",
            "flex": null,
            "flex_flow": "row wrap",
            "grid_area": null,
            "grid_auto_columns": null,
            "grid_auto_flow": null,
            "grid_auto_rows": null,
            "grid_column": null,
            "grid_gap": null,
            "grid_row": null,
            "grid_template_areas": null,
            "grid_template_columns": null,
            "grid_template_rows": null,
            "height": null,
            "justify_content": null,
            "justify_items": null,
            "left": null,
            "margin": null,
            "max_height": null,
            "max_width": null,
            "min_height": null,
            "min_width": null,
            "object_fit": null,
            "object_position": null,
            "order": null,
            "overflow": null,
            "overflow_x": null,
            "overflow_y": null,
            "padding": null,
            "right": null,
            "top": null,
            "visibility": null,
            "width": "100%"
          }
        },
        "f4074ec8e4ca4301a42956ec7248e194": {
          "model_module": "@jupyter-widgets/controls",
          "model_module_version": "1.5.0",
          "model_name": "DescriptionStyleModel",
          "state": {
            "_model_module": "@jupyter-widgets/controls",
            "_model_module_version": "1.5.0",
            "_model_name": "DescriptionStyleModel",
            "_view_count": null,
            "_view_module": "@jupyter-widgets/base",
            "_view_module_version": "1.2.0",
            "_view_name": "StyleView",
            "description_width": ""
          }
        },
        "f44a58eda7c44eafa2955b5f8e26c486": {
          "model_module": "@jupyter-widgets/controls",
          "model_module_version": "1.5.0",
          "model_name": "ProgressStyleModel",
          "state": {
            "_model_module": "@jupyter-widgets/controls",
            "_model_module_version": "1.5.0",
            "_model_name": "ProgressStyleModel",
            "_view_count": null,
            "_view_module": "@jupyter-widgets/base",
            "_view_module_version": "1.2.0",
            "_view_name": "StyleView",
            "bar_color": null,
            "description_width": ""
          }
        }
      }
    }
  },
  "nbformat": 4,
  "nbformat_minor": 0
}
